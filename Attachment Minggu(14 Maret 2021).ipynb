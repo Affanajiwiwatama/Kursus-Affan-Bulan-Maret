{
 "cells": [
  {
   "cell_type": "markdown",
   "metadata": {},
   "source": [
    "1. Create a 4x4 matrix with values ranging from 0 to 3.\\\n",
    "(The following image is just as an example. It doesn't represent the real image of arrays in the question)\n",
    "![](image/assignment2.png)"
   ]
  },
  {
   "cell_type": "code",
   "execution_count": 41,
   "metadata": {},
   "outputs": [],
   "source": [
    "import numpy as np\n",
    "from numpy import random\n",
    "\n",
    "\n",
    "a = np.zeros((4,4))\n"
   ]
  },
  {
   "cell_type": "code",
   "execution_count": 42,
   "metadata": {},
   "outputs": [
    {
     "data": {
      "text/plain": [
       "array([[0., 1., 2., 3.],\n",
       "       [0., 1., 2., 3.],\n",
       "       [0., 1., 2., 3.],\n",
       "       [0., 1., 2., 3.]])"
      ]
     },
     "execution_count": 42,
     "metadata": {},
     "output_type": "execute_result"
    }
   ],
   "source": [
    "a +=np.arange(4)\n",
    "a"
   ]
  },
  {
   "cell_type": "markdown",
   "metadata": {},
   "source": [
    "2. Create and array with shape of 4x4 and turn it into two arrays along the second axis.\\\n",
    "![](image/assignment.png)"
   ]
  },
  {
   "cell_type": "code",
   "execution_count": 32,
   "metadata": {},
   "outputs": [
    {
     "data": {
      "text/plain": [
       "array([[ 0,  1,  2,  3],\n",
       "       [ 4,  5,  6,  7],\n",
       "       [ 8,  9, 10, 11],\n",
       "       [12, 13, 14, 15]])"
      ]
     },
     "execution_count": 32,
     "metadata": {},
     "output_type": "execute_result"
    }
   ],
   "source": [
    "arr = np.arange(0,16).reshape(4,4)\n",
    "arr"
   ]
  },
  {
   "cell_type": "code",
   "execution_count": 33,
   "metadata": {},
   "outputs": [
    {
     "data": {
      "text/plain": [
       "[array([[ 0,  1],\n",
       "        [ 4,  5],\n",
       "        [ 8,  9],\n",
       "        [12, 13]]),\n",
       " array([[ 2,  3],\n",
       "        [ 6,  7],\n",
       "        [10, 11],\n",
       "        [14, 15]])]"
      ]
     },
     "execution_count": 33,
     "metadata": {},
     "output_type": "execute_result"
    }
   ],
   "source": [
    "arr2 = np.hsplit(arr,2)\n",
    "arr2"
   ]
  },
  {
   "cell_type": "markdown",
   "metadata": {},
   "source": [
    "3. soal tambahan:\n",
    "\n",
    "misalkan kita memiliki data array seperti berikut ini :\n",
    "\n",
    "array([[ 1,  2,  3,  4,  5],\n",
    "       [ 6,  7,  8,  9, 10],\n",
    "       [11, 12, 13, 14, 15],\n",
    "       [16, 17, 18, 19, 20],\n",
    "       [21, 22, 23, 24, 25]])\n",
    "       \n",
    "tuliskan proses filtering untuk mendapatkan hanya elemen data yang berupa bilangan prima ? \n",
    "\n",
    "jika dilihat dari data, output yang diinginkan : 2, 3, 7, 11, 13, 17, 19, 23"
   ]
  },
  {
   "cell_type": "code",
   "execution_count": 43,
   "metadata": {},
   "outputs": [
    {
     "data": {
      "text/plain": [
       "array([ 2,  3,  5,  7, 11, 13, 17, 19, 23])"
      ]
     },
     "execution_count": 43,
     "metadata": {},
     "output_type": "execute_result"
    }
   ],
   "source": [
    "num1 = np.arange(1,26)\n",
    "num2 = num1.reshape(5,5)\n",
    "    \n",
    "def prime_factor(n):\n",
    "    prime = []\n",
    "    for i in n:\n",
    "        flag = 0\n",
    "        if i==1:\n",
    "            flag=1\n",
    "        for j in range(2,i):\n",
    "            if i%j == 0:\n",
    "                flag = 1\n",
    "                break\n",
    "        if flag ==0:\n",
    "            prime.append(i)\n",
    "    return prime\n",
    "a = prime_factor(num)\n",
    "arr2=np.array(a)\n",
    "arr2\n",
    "                \n"
   ]
  },
  {
   "cell_type": "code",
   "execution_count": null,
   "metadata": {},
   "outputs": [],
   "source": [
    "# testing"
   ]
  },
  {
   "cell_type": "code",
   "execution_count": 8,
   "metadata": {},
   "outputs": [],
   "source": [
    "from numpy.random import randint"
   ]
  },
  {
   "cell_type": "code",
   "execution_count": 17,
   "metadata": {},
   "outputs": [
    {
     "data": {
      "text/plain": [
       "array([460, 690, 721,   3, 533, 853, 128, 765, 711, 967, 733, 988, 214,\n",
       "       989, 190, 910, 861, 205, 981, 156, 500, 640,  60, 711, 831])"
      ]
     },
     "execution_count": 17,
     "metadata": {},
     "output_type": "execute_result"
    }
   ],
   "source": [
    "b = randint(1,1000,(25))\n",
    "b "
   ]
  },
  {
   "cell_type": "code",
   "execution_count": 18,
   "metadata": {},
   "outputs": [
    {
     "data": {
      "text/plain": [
       "[3, 853, 967, 733]"
      ]
     },
     "execution_count": 18,
     "metadata": {},
     "output_type": "execute_result"
    }
   ],
   "source": [
    "arr3 = prime_factor(b)\n",
    "arr3"
   ]
  }
 ],
 "metadata": {
  "kernelspec": {
   "display_name": "Python 3",
   "language": "python",
   "name": "python3"
  },
  "language_info": {
   "codemirror_mode": {
    "name": "ipython",
    "version": 3
   },
   "file_extension": ".py",
   "mimetype": "text/x-python",
   "name": "python",
   "nbconvert_exporter": "python",
   "pygments_lexer": "ipython3",
   "version": "3.8.5"
  }
 },
 "nbformat": 4,
 "nbformat_minor": 4
}
